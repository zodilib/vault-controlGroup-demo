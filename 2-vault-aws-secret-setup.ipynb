{
 "cells": [
  {
   "cell_type": "code",
   "execution_count": null,
   "id": "5900f9bb-80b2-45b2-93ca-8d42f184b0b9",
   "metadata": {},
   "outputs": [],
   "source": [
    "# Export Vault Variables\n",
    "\n",
    "export VAULT_PORT=8200\n",
    "export VAULT_ADDR=\"http://127.0.0.1:${VAULT_PORT}\"\n",
    "export VAULT_TOKEN=\"root\"\n",
    "\n",
    "vault status"
   ]
  },
  {
   "cell_type": "code",
   "execution_count": null,
   "id": "3f1acc6e-4018-43bf-97a7-238d93db2aa1",
   "metadata": {},
   "outputs": [],
   "source": [
    "## Enable AWS Secrets Engine\n",
    "\n",
    "vault secrets enable aws"
   ]
  },
  {
   "cell_type": "code",
   "execution_count": null,
   "id": "f4322719-e0d7-4f81-b752-9ffcb4b75b4d",
   "metadata": {},
   "outputs": [],
   "source": [
    "## Configure credentials that Vault uses to communicate with AWS\n",
    "\n",
    "vault write aws/config/root \\\n",
    "    access_key=<> \\\n",
    "    secret_key=<> \\\n",
    "    region=us-east-1"
   ]
  },
  {
   "cell_type": "code",
   "execution_count": null,
   "id": "764517cb-bf09-4de9-af99-797d66705b5b",
   "metadata": {},
   "outputs": [],
   "source": [
    "## Configure a Vault role that maps to a set of permissions in AWS as well as an AWS credential type.\n",
    "\n",
    "vault write aws/roles/my-role \\\n",
    "    credential_type=iam_user \\\n",
    "    policy_document=-<<EOF\n",
    "{\n",
    "  \"Version\": \"2012-10-17\",\n",
    "  \"Statement\": [\n",
    "    {\n",
    "      \"Effect\": \"Allow\",\n",
    "      \"Action\": \"ec2:*\",\n",
    "      \"Resource\": \"*\"\n",
    "    }\n",
    "  ]\n",
    "}\n",
    "EOF"
   ]
  },
  {
   "cell_type": "code",
   "execution_count": null,
   "id": "ebb3f139-3656-4467-bc9a-9346c78ec3f0",
   "metadata": {},
   "outputs": [],
   "source": [
    "## Generate a new credential by reading from the /creds endpoint with the name of the role\n",
    "\n",
    "vault read aws/creds/my-role"
   ]
  }
 ],
 "metadata": {
  "kernelspec": {
   "display_name": "Bash",
   "language": "bash",
   "name": "bash"
  },
  "language_info": {
   "codemirror_mode": "shell",
   "file_extension": ".sh",
   "mimetype": "text/x-sh",
   "name": "bash"
  }
 },
 "nbformat": 4,
 "nbformat_minor": 5
}
