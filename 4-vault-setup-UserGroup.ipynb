{
 "cells": [
  {
   "cell_type": "code",
   "execution_count": null,
   "id": "6a6c1f03-1615-441a-87e6-0c032284dc14",
   "metadata": {},
   "outputs": [],
   "source": [
    "# Export Vault Variables \n",
    "\n",
    "export VAULT_PORT=8200\n",
    "export VAULT_ADDR=\"http://127.0.0.1:${VAULT_PORT}\"\n",
    "export VAULT_TOKEN=\"root\""
   ]
  },
  {
   "cell_type": "code",
   "execution_count": null,
   "id": "16c64b08-f070-4c86-878f-903041207645",
   "metadata": {},
   "outputs": [],
   "source": [
    "## Setup entities and a group\n",
    "\n",
    "## Enable the userpass auth method.\n",
    "\n",
    "vault auth enable userpass"
   ]
  },
  {
   "cell_type": "code",
   "execution_count": null,
   "id": "cb0dbbf9-c008-4620-8c8f-13e93196ebdc",
   "metadata": {},
   "outputs": [],
   "source": [
    "## Create a new user, bob with password, \"training\".\n",
    "\n",
    "vault write auth/userpass/users/bob password=\"training\"\n"
   ]
  },
  {
   "cell_type": "code",
   "execution_count": null,
   "id": "19578b95-6d7a-4765-856a-6b86b4d0cc49",
   "metadata": {},
   "outputs": [],
   "source": [
    "## Create a new user, ellen with password, \"training\".\n",
    "\n",
    "vault write auth/userpass/users/ellen password=\"training\"\n"
   ]
  },
  {
   "cell_type": "code",
   "execution_count": null,
   "id": "c9d6e53a-7342-49d9-a926-a93ee094c8a2",
   "metadata": {},
   "outputs": [],
   "source": [
    "## Retrieve the userpass mount accessor and save it in a file named accessor.txt.\n",
    "\n",
    "vault auth list -format=json | jq -r '.[\"userpass/\"].accessor' > accessor.txt"
   ]
  },
  {
   "cell_type": "code",
   "execution_count": null,
   "id": "d038aaa3-6dde-4599-ac66-7892c7a732e6",
   "metadata": {},
   "outputs": [],
   "source": [
    "## Create Bob Smith entity and save the identity ID in the entity_id_bob.txt.\n",
    "\n",
    "vault write -format=json identity/entity name=\"Bob Smith\" \\\n",
    "        policies=\"read-cred\" \\\n",
    "        metadata=team=\"Processor\" \\\n",
    "        | jq -r \".data.id\" > entity_id_bob.txt"
   ]
  },
  {
   "cell_type": "code",
   "execution_count": null,
   "id": "5bcc74b6-66fb-40c7-8cac-d784573618d2",
   "metadata": {},
   "outputs": [],
   "source": [
    "## Add an entity alias for the Bob Smith entity.\n",
    "\n",
    "vault write identity/entity-alias name=\"bob\" \\\n",
    "      canonical_id=$(cat entity_id_bob.txt) \\\n",
    "      mount_accessor=$(cat accessor.txt)\n"
   ]
  },
  {
   "cell_type": "code",
   "execution_count": null,
   "id": "61b4487c-9ea5-47d1-8681-b8263984f9d4",
   "metadata": {},
   "outputs": [],
   "source": [
    "## Create Ellen Wright entity and save the identity ID in the entity_id_ellen.txt\n",
    "\n",
    "vault write -format=json identity/entity name=\"Ellen Wright\" \\\n",
    "        policies=\"default\" \\\n",
    "        metadata=team=\"Acct Controller\" \\\n",
    "        | jq -r \".data.id\" > entity_id_ellen.txt\n"
   ]
  },
  {
   "cell_type": "code",
   "execution_count": null,
   "id": "b43217a3-9d67-42d2-aaa5-6fae6f553415",
   "metadata": {},
   "outputs": [],
   "source": [
    "## Add an entity alias for the Ellen Wright entity.\n",
    "\n",
    "vault write identity/entity-alias name=\"ellen\" \\\n",
    "      canonical_id=$(cat entity_id_ellen.txt) \\\n",
    "      mount_accessor=$(cat accessor.txt)\n"
   ]
  },
  {
   "cell_type": "code",
   "execution_count": null,
   "id": "347932ba-5cc3-4ec9-86c0-d811e10df825",
   "metadata": {},
   "outputs": [],
   "source": [
    "## Create acct_manager group and add Ellen Wright entity as a member.\n",
    "\n",
    "vault write identity/group name=\"acct_manager\" \\\n",
    "      policies=\"acct_manager\" \\\n",
    "      member_entity_ids=$(cat entity_id_ellen.txt)\n"
   ]
  },
  {
   "cell_type": "code",
   "execution_count": null,
   "id": "272453ed-ec0d-462d-96dc-49956d463014",
   "metadata": {},
   "outputs": [],
   "source": []
  }
 ],
 "metadata": {
  "kernelspec": {
   "display_name": "Bash",
   "language": "bash",
   "name": "bash"
  },
  "language_info": {
   "codemirror_mode": "shell",
   "file_extension": ".sh",
   "mimetype": "text/x-sh",
   "name": "bash"
  }
 },
 "nbformat": 4,
 "nbformat_minor": 5
}
