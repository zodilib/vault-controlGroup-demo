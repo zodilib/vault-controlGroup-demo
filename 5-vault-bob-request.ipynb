{
 "cells": [
  {
   "cell_type": "code",
   "execution_count": null,
   "id": "61db39ea-fedc-4d82-80a9-bf42d697245c",
   "metadata": {},
   "outputs": [],
   "source": [
    "# Export Vault Variables\n",
    "\n",
    "export VAULT_PORT=8200\n",
    "export VAULT_ADDR=\"http://127.0.0.1:${VAULT_PORT}\"\n"
   ]
  },
  {
   "cell_type": "code",
   "execution_count": null,
   "id": "b59ec0fe-fdcd-45cc-abe7-6ceb4b832c77",
   "metadata": {},
   "outputs": [],
   "source": [
    "## Login As BOB\n",
    "\n",
    "vault login -method=userpass username=\"bob\" password="
   ]
  },
  {
   "cell_type": "code",
   "execution_count": null,
   "id": "d7afe8e4-5cce-47fb-a28c-842b333452ea",
   "metadata": {},
   "outputs": [],
   "source": [
    "## Request the Credentials\n",
    "\n",
    "vault read aws/creds/my-role"
   ]
  },
  {
   "cell_type": "code",
   "execution_count": null,
   "id": "85c79e62-90b6-41ad-8029-537b0aad8112",
   "metadata": {},
   "outputs": [],
   "source": [
    "## Export Wrapping Token\n",
    "\n",
    "export WRAPPING_TOKEN="
   ]
  },
  {
   "cell_type": "code",
   "execution_count": null,
   "id": "396c2d22-f04a-4c51-b39d-bf8e7f418edb",
   "metadata": {},
   "outputs": [],
   "source": [
    "## Unwrap after Approval\n",
    "\n",
    "vault unwrap $WRAPPING_TOKEN"
   ]
  }
 ],
 "metadata": {
  "kernelspec": {
   "display_name": "Bash",
   "language": "bash",
   "name": "bash"
  },
  "language_info": {
   "codemirror_mode": "shell",
   "file_extension": ".sh",
   "mimetype": "text/x-sh",
   "name": "bash"
  }
 },
 "nbformat": 4,
 "nbformat_minor": 5
}
