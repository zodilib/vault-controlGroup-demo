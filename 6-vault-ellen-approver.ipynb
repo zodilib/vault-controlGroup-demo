{
 "cells": [
  {
   "cell_type": "code",
   "execution_count": 1,
   "id": "2f4abd9a-773a-490b-99f1-597d5e73dccf",
   "metadata": {},
   "outputs": [],
   "source": [
    "# Export Vault Variables \n",
    "\n",
    "export VAULT_PORT=8200\n",
    "export VAULT_ADDR=\"http://127.0.0.1:${VAULT_PORT}\""
   ]
  },
  {
   "cell_type": "code",
   "execution_count": 2,
   "id": "93c57108-771c-4036-83e0-ccf0ee116f71",
   "metadata": {},
   "outputs": [
    {
     "name": "stdout",
     "output_type": "stream",
     "text": [
      "\u001b[0mSuccess! You are now authenticated. The token information displayed below\n",
      "is already stored in the token helper. You do NOT need to run \"vault login\"\n",
      "again. Future Vault requests will automatically use this token.\n",
      "\u001b[0m\n",
      "\u001b[0mKey                    Value\n",
      "---                    -----\n",
      "token                  hvs.CAESII5SiVZtTlXFp_5ACbMm3-5AiqSOyDN01mnHJt-wBaGZGh4KHGh2cy5oU0ZPdG54bE1heWJMZWJVbE13N3o0QUE\n",
      "token_accessor         ZF6487Pvye1Jt2FDfxSFmn60\n",
      "token_duration         768h\n",
      "token_renewable        true\n",
      "token_policies         [\"default\"]\n",
      "identity_policies      [\"acct_manager\" \"default\"]\n",
      "policies               [\"acct_manager\" \"default\"]\n",
      "token_meta_username    ellen\u001b[0m\n"
     ]
    }
   ],
   "source": [
    "## Log in as ellen who is a member of acct_manager group.\n",
    "\n",
    "vault login -method=userpass username=\"ellen\" password=\"training\""
   ]
  },
  {
   "cell_type": "code",
   "execution_count": 3,
   "id": "5d343782-b02e-4d2a-9132-72c4fe1afe6b",
   "metadata": {},
   "outputs": [],
   "source": [
    "\n",
    "## Export the wrapping token accessor as WRAPPING_ACCESSOR\n",
    "\n",
    "export WRAPPING_ACCESSOR=gN0sSuapFSoIugAbTCK2BHJY"
   ]
  },
  {
   "cell_type": "code",
   "execution_count": 4,
   "id": "3fa9f2cb-b1eb-468e-9f98-cab629275d02",
   "metadata": {},
   "outputs": [
    {
     "name": "stdout",
     "output_type": "stream",
     "text": [
      "\u001b[0mKey               Value\n",
      "---               -----\n",
      "approved          false\n",
      "authorizations    <nil>\n",
      "request_entity    map[id:a0486d55-1b91-28fa-f63c-650b87e590c1 name:Bob Smith]\n",
      "request_path      aws/creds/my-role\u001b[0m\n"
     ]
    }
   ],
   "source": [
    "## Check the current status.\n",
    "\n",
    "vault write sys/control-group/request accessor=$WRAPPING_ACCESSOR"
   ]
  },
  {
   "cell_type": "code",
   "execution_count": 5,
   "id": "af7bdd73-587f-4eb9-8856-ac6d4c25517e",
   "metadata": {},
   "outputs": [
    {
     "name": "stdout",
     "output_type": "stream",
     "text": [
      "\u001b[0mKey         Value\n",
      "---         -----\n",
      "approved    true\u001b[0m\n"
     ]
    }
   ],
   "source": [
    "## Approve the request.\n",
    "\n",
    "vault write sys/control-group/authorize accessor=$WRAPPING_ACCESSOR"
   ]
  },
  {
   "cell_type": "code",
   "execution_count": null,
   "id": "f1fec418-6e07-4e9b-8e83-03de43a04ca7",
   "metadata": {},
   "outputs": [],
   "source": []
  }
 ],
 "metadata": {
  "kernelspec": {
   "display_name": "Bash",
   "language": "bash",
   "name": "bash"
  },
  "language_info": {
   "codemirror_mode": "shell",
   "file_extension": ".sh",
   "mimetype": "text/x-sh",
   "name": "bash"
  }
 },
 "nbformat": 4,
 "nbformat_minor": 5
}
