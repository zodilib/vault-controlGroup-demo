{
 "cells": [
  {
   "cell_type": "code",
   "execution_count": null,
   "id": "2f4abd9a-773a-490b-99f1-597d5e73dccf",
   "metadata": {},
   "outputs": [],
   "source": [
    "# Export Vault Variables\n",
    "\n",
    "export VAULT_PORT=8200\n",
    "export VAULT_ADDR=\"http://127.0.0.1:${VAULT_PORT}\""
   ]
  },
  {
   "cell_type": "code",
   "execution_count": null,
   "id": "93c57108-771c-4036-83e0-ccf0ee116f71",
   "metadata": {},
   "outputs": [],
   "source": [
    "## Log in as ellen who is a member of acct_manager group.\n",
    "\n",
    "vault login -method=userpass username=\"ellen\" password="
   ]
  },
  {
   "cell_type": "code",
   "execution_count": null,
   "id": "5d343782-b02e-4d2a-9132-72c4fe1afe6b",
   "metadata": {},
   "outputs": [],
   "source": [
    "\n",
    "## Export the wrapping token accessor as WRAPPING_ACCESSOR\n",
    "\n",
    "export WRAPPING_ACCESSOR="
   ]
  },
  {
   "cell_type": "code",
   "execution_count": null,
   "id": "3fa9f2cb-b1eb-468e-9f98-cab629275d02",
   "metadata": {},
   "outputs": [],
   "source": [
    "## Check the current status.\n",
    "\n",
    "vault write sys/control-group/request accessor=$WRAPPING_ACCESSOR"
   ]
  },
  {
   "cell_type": "code",
   "execution_count": null,
   "id": "af7bdd73-587f-4eb9-8856-ac6d4c25517e",
   "metadata": {},
   "outputs": [],
   "source": [
    "## Approve the request.\n",
    "\n",
    "vault write sys/control-group/authorize accessor=$WRAPPING_ACCESSOR"
   ]
  },
  {
   "cell_type": "code",
   "execution_count": null,
   "id": "f1fec418-6e07-4e9b-8e83-03de43a04ca7",
   "metadata": {},
   "outputs": [],
   "source": []
  }
 ],
 "metadata": {
  "kernelspec": {
   "display_name": "Bash",
   "language": "bash",
   "name": "bash"
  },
  "language_info": {
   "codemirror_mode": "shell",
   "file_extension": ".sh",
   "mimetype": "text/x-sh",
   "name": "bash"
  }
 },
 "nbformat": 4,
 "nbformat_minor": 5
}
