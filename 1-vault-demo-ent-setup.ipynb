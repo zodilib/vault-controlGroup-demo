{
 "cells": [
  {
   "cell_type": "markdown",
   "metadata": {},
   "source": [
    "# HashiCorp Vault Demo Setup \n",
    "\n",
    "## Setup of the Demo\n",
    "\n",
    "This setup is tested on MacOS and is meant to simulate a distributed setup. The components used in this demo are:\n",
    "- Vault Enterprise installed on docker (to simulate an external Vault)\n",
    "- You have the Vault CLI installed\n",
    "\n",
    "This assumes your Vault server is installed using docker and already running on http://127.0.0.1:8200\n",
    "and you have set your `VAULT_ADDR` and `VAULT_TOKEN` variables.\n",
    "\n",
    "## Requirements to Run This Demo\n",
    "You will need Visual Studio Code to be installed with the Jupyter plugin. To run this notebook in VS Code, chose the Jupyter kernel and then Bash.\n",
    "- To run the current cell, use Ctrl + Enter.\n",
    "- To run the current cell and advance to the next, use Shift+Enter."
   ]
  },
  {
   "cell_type": "markdown",
   "metadata": {},
   "source": [
    "# Setup Vault"
   ]
  },
  {
   "cell_type": "code",
   "execution_count": 1,
   "metadata": {
    "vscode": {
     "languageId": "shellscript"
    }
   },
   "outputs": [
    {
     "name": "stdout",
     "output_type": "stream",
     "text": [
      "Using default tag: latest\n",
      "latest: Pulling from hashicorp/vault-enterprise\n",
      "\n",
      "\u001b[1Bc3f34fad: Pulling fs layer \n",
      "\u001b[1B9f20aea6: Pulling fs layer \n",
      "\u001b[1B6dfde488: Pulling fs layer \n",
      "\u001b[1Bc3ec412c: Pulling fs layer \n",
      "\u001b[1B33a9e127: Pulling fs layer \n",
      "\u001b[1B3ccc0c20: Pulling fs layer \n",
      "\u001b[1BDigest: sha256:c7e266b84e44580d1f5496c91c23e051f96c75a8774de4b413a563119768c50f\n",
      "Status: Downloaded newer image for hashicorp/vault-enterprise:latest\n",
      "docker.io/hashicorp/vault-enterprise:latest\n",
      "Unable to find image 'hashicorp/vault-enterprise:1.15-ent' locally\n",
      "1.15-ent: Pulling from hashicorp/vault-enterprise\n",
      "\n",
      "\u001b[1Bc3f34fad: Already exists \n",
      "\u001b[1B94bae40f: Pulling fs layer \n",
      "\u001b[1B96a95acb: Pulling fs layer \n",
      "\u001b[1B4bdc191d: Pulling fs layer \n",
      "\u001b[1B22efbf31: Pulling fs layer \n",
      "\u001b[1B9527950f: Pulling fs layer \n",
      "\u001b[1BDigest: sha256:c7f1f4d2bc2fe0bab903bb46b699d28c839149b5c549af028d04c83e100f4f39\n",
      "Status: Downloaded newer image for hashicorp/vault-enterprise:1.15-ent\n",
      "141bb731fe387031515ed946415d86d9ee13fa9c6b4b43748146689738ec7150\n"
     ]
    }
   ],
   "source": [
    "# For this demo, we will be passing our doormat credentials as environment variables.\n",
    "# For non-doormat scenarios, use your configured IAM programmatic credentials in the secret sync configuration later on.\n",
    "export VAULT_PORT=8200\n",
    "export VAULT_ADDR=\"http://127.0.0.1:${VAULT_PORT}\"\n",
    "export VAULT_TOKEN=\"root\"\n",
    "\n",
    "# Change the path to your license file\n",
    "export VAULT_LICENSE=$(cat $HOME/Documents/Misc/vaultControlGroup/vault.hclic)\n",
    "\n",
    "# Refresh Vault docker image with latest version\n",
    "docker pull hashicorp/vault-enterprise\n",
    "\n",
    "# Run Vault in docker in Dev mode with Enterprise license.\n",
    "# We have set VAULT_LOG_LEVEL to trace for troubleshooting purposes.  This will allow you to view detailed information as you test.\n",
    "# docker run -d --rm --name vault-enterprise --cap-add=IPC_LOCK \\\n",
    "# -e \"VAULT_DEV_ROOT_TOKEN_ID=${VAULT_TOKEN}\" \\\n",
    "# -e \"VAULT_DEV_LISTEN_ADDRESS=:${VAULT_PORT}\" \\\n",
    "# -e \"VAULT_LICENSE=${VAULT_LICENSE}\" \\\n",
    "# -e \"VAULT_LOG_LEVEL=trace\" \\\n",
    "# -p ${VAULT_PORT}:${VAULT_PORT} hashicorp/vault-enterprise:latest\n",
    "\n",
    "# Pinning to 1.15-ent as 1.16.1 now does not support AWS session tokens for secrets \n",
    "docker run -d --rm --name vault-enterprise --cap-add=IPC_LOCK \\\n",
    "-e \"VAULT_DEV_ROOT_TOKEN_ID=${VAULT_TOKEN}\" \\\n",
    "-e \"VAULT_DEV_LISTEN_ADDRESS=:${VAULT_PORT}\" \\\n",
    "-e \"VAULT_LICENSE=${VAULT_LICENSE}\" \\\n",
    "-e \"VAULT_LOG_LEVEL=trace\" \\\n",
    "-p ${VAULT_PORT}:${VAULT_PORT} hashicorp/vault-enterprise:1.15-ent\n"
   ]
  },
  {
   "cell_type": "code",
   "execution_count": 2,
   "metadata": {
    "vscode": {
     "languageId": "shellscript"
    }
   },
   "outputs": [
    {
     "name": "stdout",
     "output_type": "stream",
     "text": [
      "CONTAINER ID   IMAGE                                 COMMAND                  CREATED         STATUS         PORTS                                       NAMES\n",
      "141bb731fe38   hashicorp/vault-enterprise:1.15-ent   \"docker-entrypoint.s…\"   8 seconds ago   Up 8 seconds   0.0.0.0:8200->8200/tcp, :::8200->8200/tcp   vault-enterprise\n",
      "\n",
      "\u001b[0mKey             Value\n",
      "---             -----\n",
      "Seal Type       shamir\n",
      "Initialized     true\n",
      "Sealed          false\n",
      "Total Shares    1\n",
      "Threshold       1\n",
      "Version         1.15.14+ent\n",
      "Build Date      2024-08-26T17:17:05Z\n",
      "Storage Type    inmem\n",
      "Cluster Name    vault-cluster-80a83620\n",
      "Cluster ID      205e11fd-8453-b62c-c5fb-71151e4ab05e\n",
      "HA Enabled      false\u001b[0m\n"
     ]
    }
   ],
   "source": [
    "# Verify that Vault is running\n",
    "docker ps\n",
    "echo\n",
    "vault status"
   ]
  },
  {
   "cell_type": "code",
   "execution_count": 3,
   "metadata": {
    "vscode": {
     "languageId": "shellscript"
    }
   },
   "outputs": [
    {
     "name": "stdout",
     "output_type": "stream",
     "text": [
      "{\n",
      "  \"request_id\": \"8ef0c4b4-ab6d-0519-1fef-a3940389b8c3\",\n",
      "  \"lease_id\": \"\",\n",
      "  \"lease_duration\": 0,\n",
      "  \"renewable\": false,\n",
      "  \"data\": {\n",
      "    \"autoloaded\": {\n",
      "      \"expiration_time\": \"2024-09-06T00:00:00Z\",\n",
      "      \"features\": [\n",
      "        \"HSM\",\n",
      "        \"Performance Replication\",\n",
      "        \"DR Replication\",\n",
      "        \"MFA\",\n",
      "        \"Sentinel\",\n",
      "        \"Seal Wrapping\",\n",
      "        \"Control Groups\",\n",
      "        \"Performance Standby\",\n",
      "        \"Namespaces\",\n",
      "        \"KMIP\",\n",
      "        \"Entropy Augmentation\",\n",
      "        \"Transform Secrets Engine\",\n",
      "        \"Lease Count Quotas\",\n",
      "        \"Key Management Secrets Engine\",\n",
      "        \"Automated Snapshots\",\n",
      "        \"Key Management Transparent Data Encryption\",\n",
      "        \"Secrets Sync\"\n",
      "      ],\n",
      "      \"license_id\": \"ca2df2a4-d27d-7573-3a77-10ad4387d4f3\",\n",
      "      \"performance_standby_count\": 9999,\n",
      "      \"start_time\": \"2024-08-29T00:00:00Z\",\n",
      "      \"termination_time\": \"2024-09-06T00:00:00Z\"\n",
      "    },\n",
      "    \"autoloading_used\": true,\n",
      "    \"persisted_autoload\": {\n",
      "      \"expiration_time\": \"2024-09-06T00:00:00Z\",\n",
      "      \"features\": [\n",
      "        \"HSM\",\n",
      "        \"Performance Replication\",\n",
      "        \"DR Replication\",\n",
      "        \"MFA\",\n",
      "        \"Sentinel\",\n",
      "        \"Seal Wrapping\",\n",
      "        \"Control Groups\",\n",
      "        \"Performance Standby\",\n",
      "        \"Namespaces\",\n",
      "        \"KMIP\",\n",
      "        \"Entropy Augmentation\",\n",
      "        \"Transform Secrets Engine\",\n",
      "        \"Lease Count Quotas\",\n",
      "        \"Key Management Secrets Engine\",\n",
      "        \"Automated Snapshots\",\n",
      "        \"Key Management Transparent Data Encryption\",\n",
      "        \"Secrets Sync\"\n",
      "      ],\n",
      "      \"license_id\": \"ca2df2a4-d27d-7573-3a77-10ad4387d4f3\",\n",
      "      \"performance_standby_count\": 9999,\n",
      "      \"start_time\": \"2024-08-29T00:00:00Z\",\n",
      "      \"termination_time\": \"2024-09-06T00:00:00Z\"\n",
      "    }\n",
      "  },\n",
      "  \"warnings\": [\n",
      "    \"time left on license is 185h28m42s\",\n",
      "    \"Endpoint ignored these unrecognized parameters: [-format]\"\n",
      "  ]\n",
      "}\n"
     ]
    }
   ],
   "source": [
    "# Verify license features\n",
    "vault read sys/license/status -format=json"
   ]
  },
  {
   "cell_type": "markdown",
   "metadata": {},
   "source": [
    "# Clean up"
   ]
  },
  {
   "cell_type": "code",
   "execution_count": 11,
   "metadata": {
    "vscode": {
     "languageId": "shellscript"
    }
   },
   "outputs": [
    {
     "name": "stdout",
     "output_type": "stream",
     "text": [
      "vault-enterprise\n"
     ]
    }
   ],
   "source": [
    "# Stop Vault container\n",
    "docker stop vault-enterprise"
   ]
  }
 ],
 "metadata": {
  "kernelspec": {
   "display_name": "Bash",
   "language": "bash",
   "name": "bash"
  },
  "language_info": {
   "codemirror_mode": "shell",
   "file_extension": ".sh",
   "mimetype": "text/x-sh",
   "name": "bash"
  }
 },
 "nbformat": 4,
 "nbformat_minor": 4
}
