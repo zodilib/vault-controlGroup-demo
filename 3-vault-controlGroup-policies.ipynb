{
 "cells": [
  {
   "cell_type": "code",
   "execution_count": null,
   "id": "9559b21c-2b59-4f36-a53b-f914f361a82e",
   "metadata": {},
   "outputs": [],
   "source": [
    "# Export Vault Variables \n",
    "\n",
    "export VAULT_PORT=8200\n",
    "export VAULT_ADDR=\"http://127.0.0.1:${VAULT_PORT}\"\n",
    "export VAULT_TOKEN=\"root\""
   ]
  },
  {
   "cell_type": "code",
   "execution_count": null,
   "id": "ba858f6d-8f56-46b7-9de6-61d6a228ab16",
   "metadata": {},
   "outputs": [],
   "source": [
    "## Create a policy file named read.hcl for Bob the reader. ( accessor ) \n",
    "\n",
    "tee read.hcl <<EOF\n",
    "path \"aws/creds/my-role\" {\n",
    "  capabilities = [ \"read\" ]\n",
    "\n",
    "  control_group = {\n",
    "    factor \"authorizer\" {\n",
    "      identity {\n",
    "        group_names = [ \"acct_manager\" ]\n",
    "        approvals = 1\n",
    "      }\n",
    "    }\n",
    "  }\n",
    "}\n",
    "EOF"
   ]
  },
  {
   "cell_type": "code",
   "execution_count": null,
   "id": "eb7fe8a4-8d58-4457-943f-577cf2328f24",
   "metadata": {},
   "outputs": [],
   "source": [
    "## Create another policy file named, acct_manager.hcl. \n",
    "## This is the policy needed for the member of controller (acct_manager) to approve Bob's request\n",
    "\n",
    "## The important thing here is that the authorizer must have create and update permission on \n",
    "## the sys/control-group/authorize endpoint so that they can approve the request\n",
    "\n",
    "tee acct_manager.hcl <<EOF\n",
    "# To approve the request\n",
    "path \"sys/control-group/authorize\" {\n",
    "    capabilities = [\"create\", \"update\"]\n",
    "}\n",
    "\n",
    "# To check control group request status\n",
    "path \"sys/control-group/request\" {\n",
    "    capabilities = [\"create\", \"update\"]\n",
    "}\n",
    "EOF\n"
   ]
  },
  {
   "cell_type": "code",
   "execution_count": null,
   "id": "0b01018c-673b-4561-8503-78c7f68d7555",
   "metadata": {},
   "outputs": [],
   "source": [
    "## Create a new policy named read-cred \n",
    "\n",
    "vault policy write read-cred read.hcl"
   ]
  },
  {
   "cell_type": "code",
   "execution_count": null,
   "id": "80500815-feea-44b4-89b8-408458459031",
   "metadata": {},
   "outputs": [],
   "source": [
    "## Create a new policy named acct_manager.\n",
    "\n",
    "vault policy write acct_manager acct_manager.hcl\n"
   ]
  },
  {
   "cell_type": "code",
   "execution_count": null,
   "id": "ff46bedf-0d6f-4771-9be1-ed4c359c0465",
   "metadata": {},
   "outputs": [],
   "source": []
  }
 ],
 "metadata": {
  "kernelspec": {
   "display_name": "Bash",
   "language": "bash",
   "name": "bash"
  },
  "language_info": {
   "codemirror_mode": "shell",
   "file_extension": ".sh",
   "mimetype": "text/x-sh",
   "name": "bash"
  }
 },
 "nbformat": 4,
 "nbformat_minor": 5
}
